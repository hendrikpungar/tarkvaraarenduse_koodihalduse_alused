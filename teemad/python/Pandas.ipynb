{
  "cells": [
    {
      "cell_type": "markdown",
      "id": "f56cccf4",
      "metadata": {
        "colab_type": "text",
        "id": "view-in-github"
      },
      "source": [
        "<a href=\"https://colab.research.google.com/github/adlerpriit/2025_taka_fall/blob/main/teemad/python/Pandas.ipynb\" target=\"_parent\"><img src=\"https://colab.research.google.com/assets/colab-badge.svg\" alt=\"Open In Colab\"/></a>"
      ]
    },
    {
      "cell_type": "markdown",
      "id": "f48e311d",
      "metadata": {
        "id": "f48e311d"
      },
      "source": [
        "# Sissejuhatus Pandase ja Matplotlibi kasutamisse"
      ]
    },
    {
      "cell_type": "markdown",
      "id": "ced8cdc1",
      "metadata": {
        "id": "ced8cdc1"
      },
      "source": [
        "## Mis on Pandas?\n",
        "Pandas on populaarne Python'i teek, mis võimaldab mugavalt töödelda tabelandmeid. Seda kasutatakse andmeteaduses, analüüsis ja visualiseerimises. Pandas teeb andmete puhastamise, filtreerimise, sorteerimise ja analüüsi lihtsaks."
      ]
    },
    {
      "cell_type": "markdown",
      "id": "d88c6038",
      "metadata": {
        "id": "d88c6038"
      },
      "source": [
        "Pandas ja Matplotlib on olulised Python'i teegid andmete töötlemiseks ja visualiseerimiseks. Andmeteaduses on tähtis osata andmeid tõhusalt hallata ja tulemusi selgelt esitada."
      ]
    },
    {
      "cell_type": "markdown",
      "id": "980a2f26",
      "metadata": {
        "id": "980a2f26"
      },
      "source": [
        "## Andmeteaduse töövoog\n",
        "Tüüpiline töövoog: andmete laadimine → puhastamine/ettevalmistus → analüüs → visualiseerimine → tulemuste esitamine. Pandast kasutatakse andmete haldamiseks ja analüüsiks, Matplotlibi visualiseerimiseks.\n",
        "\n",
        "**Hea praktika:**\n",
        "- Ära muuda originaalset DataFrame'i, vaid loo iga olulisema sammu jaoks uus muutuja (nt df_clean, df_sorted). Nii on töövoog jälgitav ja vigu lihtsam leida.\n",
        "- Kui teed järjestikku mitu operatsiooni, kasuta Pandase .pipe() meetodit, mis võimaldab funktsioone järjestada ja koodi loetavust parandada.\n",
        "\n",
        "Näide [pipe](https://pandas.pydata.org/docs/reference/api/pandas.DataFrame.pipe.html) kasutamisest:\n",
        "\n",
        "df_clean = (\n",
        "    df.dropna()\n",
        "      .pipe(lambda d: d[d['age'] > 18])\n",
        "      .sort_values('income', ascending=False)\n",
        ")"
      ]
    },
    {
      "cell_type": "markdown",
      "id": "9d7a440c",
      "metadata": {
        "id": "9d7a440c"
      },
      "source": [
        "## Pandase põhikontseptsioonid\n",
        "Pandasel on kaks põhilist andmestruktuuri: **Series** (1-mõõtmeline) ja **DataFrame** (2-mõõtmeline).\n",
        "- DataFrame on nagu arvutustabel: iga veerg on Series ja kõigil veergudel on sama indeks."
      ]
    },
    {
      "cell_type": "code",
      "execution_count": 1,
      "id": "0628c7c3",
      "metadata": {
        "id": "0628c7c3"
      },
      "outputs": [
        {
          "name": "stdout",
          "output_type": "stream",
          "text": [
            "0    1\n",
            "1    2\n",
            "2    3\n",
            "3    4\n",
            "dtype: int64\n",
            "     name  age     city  income\n",
            "0    Anna   22  Tallinn    1200\n",
            "1    Jaan   35    Tartu    2100\n",
            "2    Mari   19  Tallinn     950\n",
            "3  Peeter   42    Pärnu    1800\n",
            "4    Liis   28    Tartu    1600\n"
          ]
        }
      ],
      "source": [
        "import pandas as pd\n",
        "\n",
        "# Series loomine\n",
        "s = pd.Series([1, 2, 3, 4])\n",
        "print(s)\n",
        "\n",
        "# Näidisandmestiku loomine DataFrame'ina\n",
        "df = pd.DataFrame({\n",
        "    'name': ['Anna', 'Jaan', 'Mari', 'Peeter', 'Liis'],\n",
        "    'age': [22, 35, 19, 42, 28],\n",
        "    'city': ['Tallinn', 'Tartu', 'Tallinn', 'Pärnu', 'Tartu'],\n",
        "    'income': [1200, 2100, 950, 1800, 1600]\n",
        "})\n",
        "print(df)"
      ]
    },
    {
      "cell_type": "markdown",
      "id": "3276b738",
      "metadata": {
        "id": "3276b738"
      },
      "source": [
        "## Andmetüübid Pandases\n",
        "Pandas DataFrame'i iga veerg omab kindlat andmetüüpi, mis määrab, kuidas andmeid töödeldakse ja milliseid operatsioone saab teha. Olulised tüübid on:\n",
        "- **object**: Tekst (stringid), segatüüpi väärtused. Näide: ['Tallinn', 'Tartu']\n",
        "- **int**: Täisarvud. Näide: [1, 2, 3]\n",
        "- **float**: Ujukomaarvud (komaga arvud). Näide: [3.14, 2.0]\n",
        "- **bool**: Tõeväärtused (True/False). Näide: [True, False, True]\n",
        "- **datetime64**: Kuupäevad ja kellaajad. Näide: ['2023-01-01', '2024-06-01']\n",
        "\n",
        "Täisarvude puhul on Pandases mitmeid alamliike, mis määravad, kui palju mälu veerg kasutab:\n",
        "- **Int16**: 16-bitine täisarv (-32768 kuni 32767). Sobib väikeste arvude jaoks, säästab mälu. Lubab puuduvaid väärtusi (pandas.NA).\n",
        "- **Int32**: 32-bitine täisarv (-2 147 483 648 kuni 2 147 483 647). Kasutatakse suuremate arvude jaoks. Lubab puuduvaid väärtusi (pandas.NA).\n",
        "\n",
        "Erinevalt NumPy int tüüpidest lubavad Pandase Int16 ja Int32 tüübid puuduvaid väärtusi, mis on kasulik näiteks ankeetandmete või mittetäielike andmestike puhul.\n",
        "Kui tead, et veerus on ainult väikeseid arve, kasuta Int16, et vähendada mälukasutust. Suuremate arvude jaoks kasuta Int32 või Int64.\n",
        "\n",
        "### Näited erinevatest andmetüüpidest Pandases:"
      ]
    },
    {
      "cell_type": "code",
      "execution_count": 2,
      "id": "d2dee6c1",
      "metadata": {
        "id": "d2dee6c1"
      },
      "outputs": [
        {
          "name": "stdout",
          "output_type": "stream",
          "text": [
            "nimi                      object\n",
            "vanus                      Int16\n",
            "palk                     float64\n",
            "aktiivne                    bool\n",
            "liitumise_kuup    datetime64[ns]\n",
            "dtype: object\n",
            "   nimi  vanus    palk  aktiivne liitumise_kuup\n",
            "0  Anna     22  1200.5      True     2023-01-01\n",
            "1  Jaan   <NA>  2100.0     False     2024-06-01\n",
            "nimi                      object\n",
            "vanus                      Int32\n",
            "palk                     float64\n",
            "aktiivne                    bool\n",
            "liitumise_kuup    datetime64[ns]\n",
            "dtype: object\n"
          ]
        }
      ],
      "source": [
        "import pandas as pd\n",
        "\n",
        "df_types = pd.DataFrame({\n",
        "    'nimi': ['Anna', 'Jaan'],  # object\n",
        "    'vanus': pd.Series([22, pd.NA], dtype='Int16'),  # Int16 lubab puuduvaid väärtusi\n",
        "    'palk': [1200.5, 2100.0],  # float\n",
        "    'aktiivne': [True, False],  # bool\n",
        "    'liitumise_kuup': pd.to_datetime(['2023-01-01', '2024-06-01'])  # datetime64\n",
        "})\n",
        "print(df_types.dtypes)\n",
        "print(df_types)\n",
        "\n",
        "# Tüübi muutmine Int32 peale (ka Int32 lubab puuduvaid väärtusi)\n",
        "df_types['vanus'] = df_types['vanus'].astype('Int32')\n",
        "print(df_types.dtypes)"
      ]
    },
    {
      "cell_type": "markdown",
      "id": "44e6f9f0",
      "metadata": {
        "id": "44e6f9f0"
      },
      "source": [
        "Tüüpide kontroll ja muutmine on oluline, et vältida vigu ja optimeerida mälukasutust. Näiteks Int16 sobib väikeste arvude jaoks, Int32 suuremate jaoks. Kuupäevadega töötamiseks kasuta datetime64 tüüpi. Puuduvate väärtuste jaoks kasuta Pandase Int-tüüpe, mitte NumPy int-tüüpe."
      ]
    },
    {
      "cell_type": "markdown",
      "id": "30a04e84",
      "metadata": {
        "id": "30a04e84"
      },
      "source": [
        "## Indekseerimine ja indeksi muutmine\n",
        "Igal DataFrame'il on indeks, mis määrab ridade järjestuse ja identiteedi. Vaikimisi on indeks numbriline (0, 1, 2, ...), kuid tihti on kasulik kasutada tähenduslikku indeksit, näiteks nime, kuupäeva või unikaalset koodi.\n",
        "\n",
        "**Miks määrata eraldi indeks?**\n",
        "- Kiirem ja mugavam andmete otsimine (nt df.loc['Anna'])\n",
        "- Loogilisem andmete struktuur, eriti kui ridadel on unikaalne tunnus\n",
        "- Grupitöötlus ja joinimine teiste andmestikega on lihtsam\n",
        "- Ajalooliste andmete puhul saab kasutada kuupäeva indeksina\n",
        "\n",
        "Kui ekspordid andmed Excelisse või Parquet-faili ja kasutad index=False, siis indeksit ei salvestata. Selle vältimiseks tee indeksist tulp tagasi."
      ]
    },
    {
      "cell_type": "code",
      "execution_count": 3,
      "id": "8085a40d",
      "metadata": {
        "id": "8085a40d"
      },
      "outputs": [
        {
          "name": "stdout",
          "output_type": "stream",
          "text": [
            "        age     city  income\n",
            "name                        \n",
            "Anna     22  Tallinn    1200\n",
            "Jaan     35    Tartu    2100\n",
            "Mari     19  Tallinn     950\n",
            "Peeter   42    Pärnu    1800\n",
            "Liis     28    Tartu    1600\n",
            "age            22\n",
            "city      Tallinn\n",
            "income       1200\n",
            "Name: Anna, dtype: object\n",
            "     name  age     city  income\n",
            "0    Anna   22  Tallinn    1200\n",
            "1    Jaan   35    Tartu    2100\n",
            "2    Mari   19  Tallinn     950\n",
            "3  Peeter   42    Pärnu    1800\n",
            "4    Liis   28    Tartu    1600\n"
          ]
        }
      ],
      "source": [
        "# Indeksi määramine veeru põhjal\n",
        "df_indexed = df.set_index('name')\n",
        "print(df_indexed)\n",
        "\n",
        "# Andmete otsimine indeksi abil\n",
        "print(df_indexed.loc['Anna'])\n",
        "\n",
        "# Indeksist tulba tegemine (enne eksporti)\n",
        "df_reset = df_indexed.reset_index()\n",
        "print(df_reset)"
      ]
    },
    {
      "cell_type": "markdown",
      "id": "a90a5964",
      "metadata": {
        "id": "a90a5964"
      },
      "source": [
        "## Andmete sorteerimine\n",
        "Sorteerimine aitab leida suurimaid/väiksemaid väärtusi või järjestada andmeid loogiliselt.\n",
        "\n",
        "### Sorteerimine ühe või mitme tulba järgi\n",
        "Saad sorteerida ühe või mitme tulba järgi, määrates tulbanimed listina. Näiteks vanuse ja sissetuleku järgi:"
      ]
    },
    {
      "cell_type": "code",
      "execution_count": 4,
      "id": "091f6737",
      "metadata": {
        "id": "091f6737"
      },
      "outputs": [
        {
          "name": "stdout",
          "output_type": "stream",
          "text": [
            "     name  age     city  income\n",
            "3  Peeter   42    Pärnu    1800\n",
            "1    Jaan   35    Tartu    2100\n",
            "4    Liis   28    Tartu    1600\n",
            "0    Anna   22  Tallinn    1200\n",
            "2    Mari   19  Tallinn     950\n",
            "     name  age     city  income\n",
            "2    Mari   19  Tallinn     950\n",
            "0    Anna   22  Tallinn    1200\n",
            "4    Liis   28    Tartu    1600\n",
            "1    Jaan   35    Tartu    2100\n",
            "3  Peeter   42    Pärnu    1800\n"
          ]
        }
      ],
      "source": [
        "# Sorteeri vanuse järgi kahanevalt\n",
        "df_sorted = df.sort_values('age', ascending=False)\n",
        "print(df_sorted)\n",
        "\n",
        "# Sorteeri vanuse ja sissetuleku järgi\n",
        "df_multi_sorted = df.sort_values(['age', 'income'], ascending=[True, False])\n",
        "print(df_multi_sorted)"
      ]
    },
    {
      "cell_type": "markdown",
      "id": "129a032b",
      "metadata": {
        "id": "129a032b"
      },
      "source": [
        "### Sorteerimine custom funktsiooniga\n",
        "Alates Pandas 1.1 saab kasutada sort_values(key=...), kus key on funktsioon (vaata ka [lambda funktsioone](https://docs.python.org/3/reference/expressions.html#lambda)), mis rakendatakse sorteeritavale veerule. Näiteks sorteerida nime pikkuse järgi."
      ]
    },
    {
      "cell_type": "code",
      "execution_count": 5,
      "id": "0427cf7b",
      "metadata": {
        "id": "0427cf7b"
      },
      "outputs": [
        {
          "name": "stdout",
          "output_type": "stream",
          "text": [
            "     name  age     city  income\n",
            "0    Anna   22  Tallinn    1200\n",
            "1    Jaan   35    Tartu    2100\n",
            "2    Mari   19  Tallinn     950\n",
            "4    Liis   28    Tartu    1600\n",
            "3  Peeter   42    Pärnu    1800\n"
          ]
        }
      ],
      "source": [
        "# Sorteeri nime pikkuse järgi (custom funktsiooniga, Pandas >=1.1)\n",
        "df_custom_sorted = df.sort_values('name', key=lambda x: x.str.len())\n",
        "print(df_custom_sorted)"
      ]
    },
    {
      "cell_type": "markdown",
      "id": "ebc16b8b",
      "metadata": {
        "id": "ebc16b8b"
      },
      "source": [
        "## Uute veergude lisamine ja arvutamine\n",
        "Sageli on vaja arvutada uusi veerge olemasolevate põhjal, näiteks arvutada netosissetulek, määrata vanusekategooria või luua bool-tunnus (True/False). Uued veerud aitavad andmeid paremini analüüsida ja visualiseerida.\n",
        "\n",
        "Uue veeru saab lisada lihtsalt, omistades DataFrame'ile uue tulbanime:\n",
        "- Arvutatud veerg: df['income_tax'] = df['income'] * 0.24\n",
        "- Kategooria: df['age_group'] = pd.cut(df['age'], bins=[0,18,65,100], labels=['alaealine','täiskasvanu','eakas'])\n",
        "- Bool-tunnus: df['is_adult'] = df['age'] >= 18\n",
        "\n",
        "## Tabelite liitmine (joinimine)\n",
        "Tabelite liitmine (merge/join) võimaldab ühendada andmeid erinevatest allikatest. Joinimiseks peab olema:\n",
        "- Ühine veerg (või indeks), mille alusel liita\n",
        "- Veerud peavad olema sama andmetüübiga\n",
        "- Soovitavalt unikaalsed väärtused liitmisveerus vähemalt ühes tabelis\n",
        "\n",
        "Kõige levinum meetod on pd.merge():"
      ]
    },
    {
      "cell_type": "code",
      "execution_count": 6,
      "id": "06d1da39",
      "metadata": {
        "id": "06d1da39"
      },
      "outputs": [
        {
          "name": "stdout",
          "output_type": "stream",
          "text": [
            "     name  age     city  income  income_tax  is_adult\n",
            "0    Anna   22  Tallinn    1200       288.0      True\n",
            "1    Jaan   35    Tartu    2100       504.0      True\n",
            "2    Mari   19  Tallinn     950       228.0      True\n",
            "3  Peeter   42    Pärnu    1800       432.0      True\n",
            "4    Liis   28    Tartu    1600       384.0      True\n",
            "     name  age     city  income  income_tax  is_adult      hobby\n",
            "0    Anna   22  Tallinn    1200       288.0      True      jooga\n",
            "1    Jaan   35    Tartu    2100       504.0      True  matkamine\n",
            "2    Mari   19  Tallinn     950       228.0      True   lugemine\n",
            "3  Peeter   42    Pärnu    1800       432.0      True        NaN\n",
            "4    Liis   28    Tartu    1600       384.0      True        NaN\n"
          ]
        }
      ],
      "source": [
        "# Uue veeru loomine\n",
        "df['income_tax'] = df['income'] * 0.24  # Näiteks tulumaksu arvutamine\n",
        "df['is_adult'] = df['age'] >= 18 # tekitab boolean veeru: True/False\n",
        "print(df)\n",
        "\n",
        "# Tabelite liitmine (joinimine)\n",
        "df_extra = pd.DataFrame({\n",
        "    'name': ['Anna', 'Jaan', 'Mari'],\n",
        "    'hobby': ['jooga', 'matkamine', 'lugemine']\n",
        "})\n",
        "df_joined = pd.merge(df, df_extra, on='name', how='left')\n",
        "print(df_joined)"
      ]
    },
    {
      "cell_type": "markdown",
      "id": "a1d80b0a",
      "metadata": {
        "id": "a1d80b0a"
      },
      "source": [
        "`pd.concat()` ühendab tabeleid kas ridade (`axis=0`) või veergude (`axis=1`) kaupa. Kasuta concat'i, kui soovid lihtsalt tabeleid järjestada või veerge kokku panna, mitte liita ühise veeru alusel nagu merge/join."
      ]
    },
    {
      "cell_type": "code",
      "execution_count": 3,
      "id": "d308336d",
      "metadata": {
        "id": "d308336d"
      },
      "outputs": [
        {
          "name": "stdout",
          "output_type": "stream",
          "text": [
            "     name  age     city  income\n",
            "0    Anna   22  Tallinn    1200\n",
            "1    Jaan   35    Tartu    2100\n",
            "2    Mari   19  Tallinn     950\n",
            "3  Peeter   42    Pärnu    1800\n",
            "4    Liis   28    Tartu    1600\n"
          ]
        }
      ],
      "source": [
        "# Tabelite ühendamine (concat) ridade kaupa\n",
        "df_part1 = df.iloc[:3]\n",
        "df_part2 = df.iloc[3:]\n",
        "df_concat = pd.concat([df_part1, df_part2], axis=0)\n",
        "print(df_concat)\n"
      ]
    },
    {
      "cell_type": "code",
      "execution_count": 4,
      "id": "2cdfb5ba",
      "metadata": {},
      "outputs": [
        {
          "name": "stdout",
          "output_type": "stream",
          "text": [
            "     name  age     city  income\n",
            "0    Anna   22  Tallinn    1200\n",
            "1    Jaan   35    Tartu    2100\n",
            "2    Mari   19  Tallinn     950\n",
            "3  Peeter   42    Pärnu    1800\n",
            "4    Liis   28    Tartu    1600\n"
          ]
        }
      ],
      "source": [
        "\n",
        "# Tabelite ühendamine (concat) veergude kaupa\n",
        "df_cols1 = df[['name', 'age']]\n",
        "df_cols2 = df[['city', 'income']]\n",
        "df_concat_cols = pd.concat([df_cols1, df_cols2], axis=1)\n",
        "print(df_concat_cols)"
      ]
    },
    {
      "cell_type": "markdown",
      "id": "5d531ff9",
      "metadata": {
        "id": "5d531ff9"
      },
      "source": [
        "## Andmete inspekteerimine\n",
        "Enne analüüsi on oluline oma andmeid tundma õppida."
      ]
    },
    {
      "cell_type": "code",
      "execution_count": 5,
      "id": "a96fcdf0",
      "metadata": {
        "id": "a96fcdf0"
      },
      "outputs": [
        {
          "name": "stdout",
          "output_type": "stream",
          "text": [
            "     name  age     city  income\n",
            "0    Anna   22  Tallinn    1200\n",
            "1    Jaan   35    Tartu    2100\n",
            "2    Mari   19  Tallinn     950\n",
            "3  Peeter   42    Pärnu    1800\n",
            "4    Liis   28    Tartu    1600\n",
            "     name  age     city  income\n",
            "0    Anna   22  Tallinn    1200\n",
            "1    Jaan   35    Tartu    2100\n",
            "2    Mari   19  Tallinn     950\n",
            "3  Peeter   42    Pärnu    1800\n",
            "4    Liis   28    Tartu    1600\n"
          ]
        }
      ],
      "source": [
        "# Esimeste ja viimaste ridade vaatamine\n",
        "print(df.head())\n",
        "print(df.tail())"
      ]
    },
    {
      "cell_type": "markdown",
      "id": "9a66fcf3",
      "metadata": {
        "id": "9a66fcf3"
      },
      "source": [
        "`info` on üks kasulikumaid meetodeid, mis annab ülevaate veergude andmetüüpide ja puuduvatest väärtustest. See aitab mõista, milliseid andmeid on ja kas on vaja andmeid puhastada või teisendada."
      ]
    },
    {
      "cell_type": "code",
      "execution_count": 6,
      "id": "f546c722",
      "metadata": {
        "id": "f546c722"
      },
      "outputs": [
        {
          "name": "stdout",
          "output_type": "stream",
          "text": [
            "<class 'pandas.core.frame.DataFrame'>\n",
            "RangeIndex: 5 entries, 0 to 4\n",
            "Data columns (total 4 columns):\n",
            " #   Column  Non-Null Count  Dtype \n",
            "---  ------  --------------  ----- \n",
            " 0   name    5 non-null      object\n",
            " 1   age     5 non-null      int64 \n",
            " 2   city    5 non-null      object\n",
            " 3   income  5 non-null      int64 \n",
            "dtypes: int64(2), object(2)\n",
            "memory usage: 292.0+ bytes\n"
          ]
        }
      ],
      "source": [
        "# Veergude info ja puuduvate väärtuste kontroll\n",
        "df.info()"
      ]
    },
    {
      "cell_type": "markdown",
      "id": "3148263f",
      "metadata": {
        "id": "3148263f"
      },
      "source": [
        "`describe` annab statistilise kokkuvõtte arvuliste veergude kohta (nt keskmine, mediaan, min, max, kvartilid). See aitab mõista andmete jaotust ja leida võimalikke anomaaliaid. Kokkuvõte arvutatakse ainult arvuliste veergude kohta."
      ]
    },
    {
      "cell_type": "code",
      "execution_count": 10,
      "id": "a2e2181a",
      "metadata": {
        "id": "a2e2181a"
      },
      "outputs": [
        {
          "data": {
            "application/vnd.microsoft.datawrangler.viewer.v0+json": {
              "columns": [
                {
                  "name": "index",
                  "rawType": "object",
                  "type": "string"
                },
                {
                  "name": "age",
                  "rawType": "float64",
                  "type": "float"
                },
                {
                  "name": "income",
                  "rawType": "float64",
                  "type": "float"
                },
                {
                  "name": "income_tax",
                  "rawType": "float64",
                  "type": "float"
                }
              ],
              "ref": "c1d1aaf2-5ac7-4717-9a07-14a2e03a897d",
              "rows": [
                [
                  "count",
                  "5.0",
                  "5.0",
                  "5.0"
                ],
                [
                  "mean",
                  "29.2",
                  "1530.0",
                  "367.2"
                ],
                [
                  "std",
                  "9.418067742376884",
                  "460.43457732885355",
                  "110.50429855892484"
                ],
                [
                  "min",
                  "19.0",
                  "950.0",
                  "228.0"
                ],
                [
                  "25%",
                  "22.0",
                  "1200.0",
                  "288.0"
                ],
                [
                  "50%",
                  "28.0",
                  "1600.0",
                  "384.0"
                ],
                [
                  "75%",
                  "35.0",
                  "1800.0",
                  "432.0"
                ],
                [
                  "max",
                  "42.0",
                  "2100.0",
                  "504.0"
                ]
              ],
              "shape": {
                "columns": 3,
                "rows": 8
              }
            },
            "text/html": [
              "<div>\n",
              "<style scoped>\n",
              "    .dataframe tbody tr th:only-of-type {\n",
              "        vertical-align: middle;\n",
              "    }\n",
              "\n",
              "    .dataframe tbody tr th {\n",
              "        vertical-align: top;\n",
              "    }\n",
              "\n",
              "    .dataframe thead th {\n",
              "        text-align: right;\n",
              "    }\n",
              "</style>\n",
              "<table border=\"1\" class=\"dataframe\">\n",
              "  <thead>\n",
              "    <tr style=\"text-align: right;\">\n",
              "      <th></th>\n",
              "      <th>age</th>\n",
              "      <th>income</th>\n",
              "      <th>income_tax</th>\n",
              "    </tr>\n",
              "  </thead>\n",
              "  <tbody>\n",
              "    <tr>\n",
              "      <th>count</th>\n",
              "      <td>5.000000</td>\n",
              "      <td>5.000000</td>\n",
              "      <td>5.000000</td>\n",
              "    </tr>\n",
              "    <tr>\n",
              "      <th>mean</th>\n",
              "      <td>29.200000</td>\n",
              "      <td>1530.000000</td>\n",
              "      <td>367.200000</td>\n",
              "    </tr>\n",
              "    <tr>\n",
              "      <th>std</th>\n",
              "      <td>9.418068</td>\n",
              "      <td>460.434577</td>\n",
              "      <td>110.504299</td>\n",
              "    </tr>\n",
              "    <tr>\n",
              "      <th>min</th>\n",
              "      <td>19.000000</td>\n",
              "      <td>950.000000</td>\n",
              "      <td>228.000000</td>\n",
              "    </tr>\n",
              "    <tr>\n",
              "      <th>25%</th>\n",
              "      <td>22.000000</td>\n",
              "      <td>1200.000000</td>\n",
              "      <td>288.000000</td>\n",
              "    </tr>\n",
              "    <tr>\n",
              "      <th>50%</th>\n",
              "      <td>28.000000</td>\n",
              "      <td>1600.000000</td>\n",
              "      <td>384.000000</td>\n",
              "    </tr>\n",
              "    <tr>\n",
              "      <th>75%</th>\n",
              "      <td>35.000000</td>\n",
              "      <td>1800.000000</td>\n",
              "      <td>432.000000</td>\n",
              "    </tr>\n",
              "    <tr>\n",
              "      <th>max</th>\n",
              "      <td>42.000000</td>\n",
              "      <td>2100.000000</td>\n",
              "      <td>504.000000</td>\n",
              "    </tr>\n",
              "  </tbody>\n",
              "</table>\n",
              "</div>"
            ],
            "text/plain": [
              "             age       income  income_tax\n",
              "count   5.000000     5.000000    5.000000\n",
              "mean   29.200000  1530.000000  367.200000\n",
              "std     9.418068   460.434577  110.504299\n",
              "min    19.000000   950.000000  228.000000\n",
              "25%    22.000000  1200.000000  288.000000\n",
              "50%    28.000000  1600.000000  384.000000\n",
              "75%    35.000000  1800.000000  432.000000\n",
              "max    42.000000  2100.000000  504.000000"
            ]
          },
          "execution_count": 10,
          "metadata": {},
          "output_type": "execute_result"
        }
      ],
      "source": [
        "# Statistiline kokkuvõte\n",
        "df.describe()"
      ]
    },
    {
      "cell_type": "markdown",
      "id": "0948cf56",
      "metadata": {
        "id": "0948cf56"
      },
      "source": [
        "## Veergude ja ridade valik ning filtreerimine\n",
        "Veergude valimiseks kasuta `[[]]` notatsiooni: df[['name', 'age']] valib veerud 'name' ja 'age'. Ridade ja veergude täpsemaks valikuks kasuta `.loc[]` meetodit: df.loc[<indeks>, <veerg>].\n",
        "\n",
        "- `[[]]` notatsioon valib veerge nime järgi, nt df[['name', 'age']].\n",
        "- `.loc[]` võimaldab valida ridasid ja veerge indeksi ja veeru nime järgi, nt df.loc[0, 'name'] või df.loc[df['age'] > 18, ['name', 'age']].\n",
        "\n",
        "Filtreerimiseks kasuta tingimusi, nt df[df['age'] > 18]. Tingimusi saab kombineerida (&, |).\n",
        "\n",
        "### Iteratiivne filtreerimine pipe meetodiga\n",
        "Kui soovid järjestikku mitut filtrit rakendada, kasuta pipe meetodit, mis muudab koodi loetavamaks."
      ]
    },
    {
      "cell_type": "code",
      "execution_count": 11,
      "id": "d6ac338b",
      "metadata": {
        "id": "d6ac338b"
      },
      "outputs": [
        {
          "name": "stdout",
          "output_type": "stream",
          "text": [
            "     name  age\n",
            "0    Anna   22\n",
            "1    Jaan   35\n",
            "2    Mari   19\n",
            "3  Peeter   42\n",
            "4    Liis   28\n",
            "     name     city\n",
            "0    Anna  Tallinn\n",
            "1    Jaan    Tartu\n",
            "2    Mari  Tallinn\n",
            "3  Peeter    Pärnu\n",
            "4    Liis    Tartu\n",
            "   name  age   city  income  income_tax  is_adult\n",
            "1  Jaan   35  Tartu    2100       504.0      True\n",
            "4  Liis   28  Tartu    1600       384.0      True\n"
          ]
        }
      ],
      "source": [
        "# Veeru valimine [[]] notatsiooniga\n",
        "alamvalik = df[['name', 'age']]\n",
        "print(alamvalik)\n",
        "\n",
        "# Ridade ja veergude valik .loc abil\n",
        "valik = df.loc[df['age'] > 18, ['name', 'city']]\n",
        "print(valik)\n",
        "\n",
        "# Iteratiivne filtreerimine pipe meetodiga\n",
        "df_filtered = (\n",
        "    df.pipe(lambda d: d[d['age'] > 18])\n",
        "      .pipe(lambda d: d[d['income'] > 1500])\n",
        "      .pipe(lambda d: d[d['city'] == 'Tartu'])\n",
        ")\n",
        "print(df_filtered)"
      ]
    },
    {
      "cell_type": "markdown",
      "id": "8ccd20fd",
      "metadata": {
        "id": "8ccd20fd"
      },
      "source": [
        "## Puuduvate andmete käsitlemine\n",
        "Puuduvad andmed on tavalised ja nendega tuleb teadlikult ümber käia. Puuduvad väärtused võivad tekkida andmete kogumisel, vigade tõttu või seetõttu, et osa infot pole lihtsalt olemas.\n",
        "\n",
        "**Levinumad praktikad puuduvate väärtuste käsitlemisel:**\n",
        "- Puuduvate ridade eemaldamine (df.dropna()) – kasuta, kui puuduvus on juhuslik ja andmeid jääb piisavalt alles.\n",
        "- Puuduvate väärtuste täitmine (df.fillna()) – kasuta, kui täitmine ei moonuta analüüsi (nt keskmise, mediaani, nulliga).\n",
        "- Puuduvuse analüüs – vaata, kas puuduvus on juhuslik või süsteemne (nt ainult teatud grupis).\n",
        "- Märgi puuduvad väärtused eraldi tunnusega, kui see on analüüsi jaoks oluline.\n",
        "\n",
        "**Mida silmas pidada:**\n",
        "- Kas puuduvus mõjutab analüüsi tulemusi?\n",
        "- Kas täitmine või eemaldamine moonutab andmete jaotust?\n",
        "- Kas eemaldamine vähendab oluliselt andmete hulka?\n",
        "- Kas puuduvus on seotud mingi tunnusega (nt vanusegrupp, linn)?\n",
        "\n",
        "Alati analüüsi puuduvate väärtuste mustrit enne otsuse tegemist!"
      ]
    },
    {
      "cell_type": "code",
      "execution_count": 12,
      "id": "acd713bd",
      "metadata": {
        "id": "acd713bd"
      },
      "outputs": [
        {
          "name": "stdout",
          "output_type": "stream",
          "text": [
            "name          0\n",
            "age           0\n",
            "city          0\n",
            "income        0\n",
            "income_tax    0\n",
            "is_adult      0\n",
            "dtype: int64\n"
          ]
        }
      ],
      "source": [
        "# Puuduvate väärtuste arv veergude kaupa\n",
        "print(df.isnull().sum())\n",
        "# Ridade eemaldamine, kus on puuduvad andmed\n",
        "df_puhas = df.dropna()\n",
        "# Puuduvate väärtuste täitmine\n",
        "df_taidetud = df.fillna(0)  # Või df.fillna(df.mean()) arvuliste veergude jaoks"
      ]
    },
    {
      "cell_type": "markdown",
      "id": "9212438c",
      "metadata": {
        "id": "9212438c"
      },
      "source": [
        "## Grupeerimine ja agregatsioon\n",
        "Grupeerimine võimaldab andmeid jagada kategooriate kaupa ja rakendada igale grupile agregatsioonifunktsioone (nt keskmine, summa, min, max).\n",
        "\n",
        "Agregatsioonifunktsioonid antakse Pandasele tavaliselt jutumärkides (nt 'mean'), sest need on Pandase sisseehitatud funktsioonide nimed. Võid kasutada ka Python funktsioone (nt np.mean, lambda vms).\n",
        "\n",
        "**Levinumad agregatsioonifunktsioonid:**\n",
        "- 'mean' – keskmine\n",
        "- 'sum' – summa\n",
        "- 'min' – miinimum\n",
        "- 'max' – maksimum\n",
        "- 'count' – ridade arv\n",
        "- 'median' – mediaan\n",
        "- 'std' – standardhälve\n",
        "\n",
        "Agregatsioonifunktsioone saab kasutada nii stringina kui funktsioonina:\n",
        "- df.groupby('city').agg({'income': 'mean'})\n",
        "- df.groupby('city').agg({'income': np.mean})\n",
        "\n",
        "### Custom funktsiooni kasutamine agregatsioonis\n",
        "Võid defineerida oma funktsiooni ja kasutada seda groupby.agg sees. Näiteks arvutada veeru väärtuste vahe (max-min):"
      ]
    },
    {
      "cell_type": "code",
      "execution_count": 13,
      "id": "7d7f58aa",
      "metadata": {
        "id": "7d7f58aa"
      },
      "outputs": [
        {
          "name": "stdout",
          "output_type": "stream",
          "text": [
            "          age  income\n",
            "city                 \n",
            "Pärnu    42.0    1800\n",
            "Tallinn  20.5    2150\n",
            "Tartu    31.5    3700\n",
            "         income                        \n",
            "           mean   min   max         std\n",
            "city                                   \n",
            "Pärnu    1800.0  1800  1800         NaN\n",
            "Tallinn  1075.0   950  1200  176.776695\n",
            "Tartu    1850.0  1600  2100  353.553391\n",
            "         income\n",
            "city           \n",
            "Pärnu         0\n",
            "Tallinn     250\n",
            "Tartu       500\n"
          ]
        }
      ],
      "source": [
        "# Grupeerimine ja erinevad agregatsioonid\n",
        "\n",
        "# Standardne agregatsioon\n",
        "agg_df = df.groupby('city').agg({'age': 'mean', 'income': 'sum'})\n",
        "print(agg_df)\n",
        "\n",
        "# Mitme agregatsioonifunktsiooni kasutamine\n",
        "agg_multi = df.groupby('city').agg({'income': ['mean', 'min', 'max', 'std']})\n",
        "print(agg_multi)\n",
        "\n",
        "# Custom funktsioon: vahe (max-min)\n",
        "def vahe(x):\n",
        "    return x.max() - x.min()\n",
        "agg_custom = df.groupby('city').agg({'income': vahe})\n",
        "print(agg_custom)"
      ]
    },
    {
      "cell_type": "markdown",
      "id": "d1749f27",
      "metadata": {
        "id": "d1749f27"
      },
      "source": [
        "`groupby` võimaldab igat gruppi eraldi töödelda. Saad iga grupi nime ja selle grupi alam-DataFrame'i, mida saab analüüsida, salvestada või visualiseerida."
      ]
    },
    {
      "cell_type": "code",
      "execution_count": 14,
      "id": "bbf0599e",
      "metadata": {
        "id": "bbf0599e"
      },
      "outputs": [
        {
          "name": "stdout",
          "output_type": "stream",
          "text": [
            "Grupi nimi: Pärnu\n",
            "     name  age   city  income  income_tax  is_adult\n",
            "3  Peeter   42  Pärnu    1800       432.0      True\n",
            "---\n",
            "Grupi nimi: Tallinn\n",
            "   name  age     city  income  income_tax  is_adult\n",
            "0  Anna   22  Tallinn    1200       288.0      True\n",
            "2  Mari   19  Tallinn     950       228.0      True\n",
            "---\n",
            "Grupi nimi: Tartu\n",
            "   name  age   city  income  income_tax  is_adult\n",
            "1  Jaan   35  Tartu    2100       504.0      True\n",
            "4  Liis   28  Tartu    1600       384.0      True\n",
            "---\n"
          ]
        }
      ],
      "source": [
        "# Prindi iga grupi alam-DataFrame\n",
        "for city, group_df in df.groupby('city'):\n",
        "    print(f'Grupi nimi: {city}')\n",
        "    print(group_df)\n",
        "    print('---')"
      ]
    },
    {
      "cell_type": "markdown",
      "id": "d2e693e4",
      "metadata": {},
      "source": [
        "## Pivot-tabelid Pandases\n",
        "\n",
        "Pivot-tabelid võimaldavad andmeid ümber korraldada ja kokku võtta, et leida seoseid erinevate tunnuste vahel. Pivot on eriti kasulik, kui soovid näha, kuidas mingi tunnus (nt keskmine sissetulek) muutub erinevate kategooriate lõikes (nt linn ja vanusegrupp).\n",
        "\n",
        "Pandases saab pivotit teha kahel viisil:\n",
        "\n",
        "1. **`pivot_table`** – võimaldab arvutada agregaatväärtusi (nt keskmine, summa) ja sobib olukordadesse, kus ridade/veerude kombinatsioonid pole unikaalsed.\n",
        "2. **`pivot`** – lihtne ümberkorraldus, kus igal ridade/veerude kombinatsioonil peab olema täpselt üks väärtus (st andmed peavad olema \"täielikud\").\n",
        "\n",
        "### Näide 1: `pivot_table` (agregatsiooniga)\n",
        "\n",
        "Oletame, et soovid näha iga linna ja vanusegrupi keskmist sissetulekut:"
      ]
    },
    {
      "cell_type": "code",
      "execution_count": 15,
      "id": "57450386",
      "metadata": {},
      "outputs": [
        {
          "name": "stdout",
          "output_type": "stream",
          "text": [
            "age_group    noor  keskealine\n",
            "city                         \n",
            "Pärnu         NaN      1800.0\n",
            "Tallinn    1075.0         NaN\n",
            "Tartu         NaN      1850.0\n"
          ]
        },
        {
          "name": "stderr",
          "output_type": "stream",
          "text": [
            "C:\\Users\\pungarhe\\AppData\\Local\\Temp\\ipykernel_22272\\961171772.py:4: FutureWarning: The default value of observed=False is deprecated and will change to observed=True in a future version of pandas. Specify observed=False to silence this warning and retain the current behavior\n",
            "  pivot_df = pd.pivot_table(df, values='income', index='city', columns='age_group', aggfunc='mean')\n"
          ]
        }
      ],
      "source": [
        "# Tekita vanusegrupid uue veeruna\n",
        "df['age_group'] = pd.cut(df['age'], bins=[0,22,65,100], labels=['noor','keskealine','eakas'])\n",
        "# pivot vanusegruppide ja linnade kaupa keskmine sissetulek\n",
        "pivot_df = pd.pivot_table(df, values='income', index='city', columns='age_group', aggfunc='mean')\n",
        "\n",
        "print(pivot_df)"
      ]
    },
    {
      "cell_type": "markdown",
      "id": "05f72d79",
      "metadata": {},
      "source": [
        "Siin arvutatakse iga linna ja vanusegrupi kohta keskmine sissetulek. Tulemus on \"tabel-tabelis\" kujul, kus read on linnad ja veerud vanusegrupid.\n",
        "\n",
        "### Näide 2: `pivot` (ilma agregatsioonita)\n",
        "\n",
        "Kui andmed on sellised, et igal linna ja nime kombinatsioonil on täpselt üks sissetulek, saab kasutada pivot meetodit:"
      ]
    },
    {
      "cell_type": "code",
      "execution_count": 16,
      "id": "4e90f68f",
      "metadata": {},
      "outputs": [
        {
          "name": "stdout",
          "output_type": "stream",
          "text": [
            "name       Anna    Jaan    Liis   Mari  Peeter\n",
            "city                                          \n",
            "Pärnu       NaN     NaN     NaN    NaN  1800.0\n",
            "Tallinn  1200.0     NaN     NaN  950.0     NaN\n",
            "Tartu       NaN  2100.0  1600.0    NaN     NaN\n"
          ]
        }
      ],
      "source": [
        "\n",
        "pivot_simple = df.pivot(index='city', columns='name', values='income')\n",
        "print(pivot_simple)"
      ]
    },
    {
      "cell_type": "markdown",
      "id": "a611a9cb",
      "metadata": {},
      "source": [
        "Siin saad iga linna kohta näha, mis on iga inimese sissetulek. Kui mõni kombinatsioon puudub, tekib vastavasse lahtrisse NaN.\n",
        "\n",
        "**Kokkuvõte:**\n",
        "- Kasuta `pivot_table`, kui soovid arvutada agregaatväärtusi või kui andmed pole \"täielikud\".\n",
        "- Kasuta `pivot`, kui igal kombinatsioonil on täpselt üks väärtus ja soovid lihtsalt andmeid ümber korraldada."
      ]
    },
    {
      "cell_type": "markdown",
      "id": "12231e03",
      "metadata": {},
      "source": [
        "### Pivot-tabeli \"unpivot\" ehk muutmine tagasi pikaks tabeliks\n",
        "\n",
        "Kui soovid pivot_simple tabeli muuta tagasi pikaks (\"long format\") tabeliks, kus igal real on city, name ja income, kasuta Pandase `melt` meetodit:"
      ]
    },
    {
      "cell_type": "code",
      "execution_count": 17,
      "id": "93cb45d3",
      "metadata": {},
      "outputs": [
        {
          "name": "stdout",
          "output_type": "stream",
          "text": [
            "       city    name  income\n",
            "0     Pärnu    Anna     NaN\n",
            "1   Tallinn    Anna  1200.0\n",
            "2     Tartu    Anna     NaN\n",
            "3     Pärnu    Jaan     NaN\n",
            "4   Tallinn    Jaan     NaN\n",
            "5     Tartu    Jaan  2100.0\n",
            "6     Pärnu    Liis     NaN\n",
            "7   Tallinn    Liis     NaN\n",
            "8     Tartu    Liis  1600.0\n",
            "9     Pärnu    Mari     NaN\n",
            "10  Tallinn    Mari   950.0\n",
            "11    Tartu    Mari     NaN\n",
            "12    Pärnu  Peeter  1800.0\n",
            "13  Tallinn  Peeter     NaN\n",
            "14    Tartu  Peeter     NaN\n",
            "       city    name  income\n",
            "1   Tallinn    Anna  1200.0\n",
            "5     Tartu    Jaan  2100.0\n",
            "8     Tartu    Liis  1600.0\n",
            "10  Tallinn    Mari   950.0\n",
            "12    Pärnu  Peeter  1800.0\n"
          ]
        }
      ],
      "source": [
        "# Muutmine tagasi pikaks tabeliks\n",
        "df_long = pd.melt(pivot_simple.reset_index(), id_vars='city', var_name='name', value_name='income')\n",
        "print(df_long)\n",
        "\n",
        "# tekkinud NaN väärtustega ridadest saame lahti näiteks nii:\n",
        "df_no_nan = df_long.dropna(subset=['income'])\n",
        "print(df_no_nan)"
      ]
    },
    {
      "cell_type": "markdown",
      "id": "d445251c",
      "metadata": {},
      "source": [
        "Siin saad iga (city, name) kombinatsiooni kohta sissetuleku eraldi real. See on kasulik, kui soovid andmeid uuesti töödelda või visualiseerida pikemal kujul."
      ]
    },
    {
      "cell_type": "markdown",
      "id": "5483de80",
      "metadata": {
        "id": "5483de80"
      },
      "source": [
        "## Andmete lugemine ja salvestamine\n",
        "Andmeid saab Pandases lugeda ja salvestada erinevatesse failiformaatidesse. Mõned levinumad näited:\n",
        "- **CSV**: Universaalne, lihtne tekstiformaat, sobib hästi andmete vahetamiseks erinevate programmide vahel. Ei säilita andmetüüpe ega vormingut.\n",
        "- **Excel (XLSX)**: Mugav kontoritööks, toetab mitut lehte ja vormingut, kuid pole nii tõhus suurte andmete jaoks.\n",
        "- **Parquet**: Tõhus, kiire ja kompaktne binaarformaat, sobib suurte andmete salvestamiseks ja töötlemiseks. Säilitab andmetüübid.\n",
        "\n",
        "CSV on kõige universaalsem ja sobib andmete jagamiseks erinevate platvormide vahel. Parquet on eelistatud suurte andmete ja analüüsi jaoks, Excel sobib kontoritööks ja väiksemate andmete puhul."
      ]
    },
    {
      "cell_type": "code",
      "execution_count": 18,
      "id": "810f7815",
      "metadata": {
        "id": "810f7815"
      },
      "outputs": [],
      "source": [
        "# Andmete salvestamine erinevatesse formaatidesse\n",
        "df.to_csv('output.csv', index=False)\n",
        "# df.to_excel('output.xlsx', index=False) # vajab openpyxl paketti, mida ei pruugi vaikimisi olla installitud\n",
        "df.to_parquet('output.parquet')"
      ]
    },
    {
      "cell_type": "code",
      "execution_count": 20,
      "id": "65bd623b",
      "metadata": {
        "id": "65bd623b"
      },
      "outputs": [],
      "source": [
        "# Andmete lugemine erinevatest failidest\n",
        "df_csv = pd.read_csv('Islander_data.csv')\n",
        "df_excel = pd.read_excel('Islander_data.xlsx')\n",
        "# df_parquet = pd.read_parquet('../../data/Islander_data.parquet')"
      ]
    },
    {
      "cell_type": "markdown",
      "id": "ef2a7be4",
      "metadata": {
        "id": "ef2a7be4"
      },
      "source": [
        "## Andmestiku kohta\n",
        "\n",
        "Näidetes kasutame\n",
        "[Kaggle](https://www.kaggle.com/datasets/steveahn/memory-test-on-drugged-islanders-data?resource=download)\n",
        "\"Memory Test on Drugged Islanders Data\" andmestikku.\n",
        "\n",
        "Andmestiku kirjeldus\n",
        "\n",
        "Eksperiment, kus uuritakse ärevusvastaste ravimite mõju mälu taastamisele, kui osalejaid on eelnevalt suunatud meenutama rõõmsaid või kurbi mälestusi. Osalejateks on virtuaalsed 'Islanders', kes matkivad pärisinimeste käitumist välistele teguritele reageerides.\n",
        "\n",
        "Uuritavad ravimid (tuntud kui) [Annus 1, 2, 3]:\n",
        "\n",
        "A - Alprazolam (Xanax, pikaajaline) [1mg/3mg/5mg]\n",
        "\n",
        "T - Triazolam (Halcion, lühiajaline) [0.25mg/0.5mg/0.75mg]\n",
        "\n",
        "S - Suhkrutablett (platseebo) [1 tbl/2 tbl/3 tbl]\n",
        "\n",
        "Andmete lugemiseks on kõige lihtsam kasutada `read_csv()` funktsiooni:"
      ]
    },
    {
      "cell_type": "markdown",
      "id": "f1c2f178",
      "metadata": {
        "id": "f1c2f178"
      },
      "source": [
        "## Praktiline ülesanne: `Islander_data` andmestik\n",
        "\n",
        "**Andmestiku tutvustus (eesti keeles):**\n",
        "Islander_data andmestik sisaldab infot Islandi elanike kohta: vanus, sugu, elukoht, haridus, sissetulek, hobid ja muud tunnused. Andmestik sobib demograafiliseks analüüsiks, sissetulekute ja hariduse seoste uurimiseks ning andmetöötluse harjutamiseks Pandasega.\n",
        "\n",
        "### Ülesande etapid\n",
        "1. Laadi andmestik Pandase DataFrame'iks (CSV või Excel).\n"
      ]
    },
    {
      "cell_type": "code",
      "execution_count": 9,
      "id": "a8247383",
      "metadata": {},
      "outputs": [],
      "source": [
        "df = pd.read_csv(\"Islander_data.csv\")"
      ]
    },
    {
      "cell_type": "markdown",
      "id": "d8cd75be",
      "metadata": {},
      "source": [
        "2. Inspekteeri andmestikku: vaata esimesi ridu, veergude tüüpe, puuduvate väärtuste arvu.\n"
      ]
    },
    {
      "cell_type": "code",
      "execution_count": 15,
      "id": "b1d4a1b2",
      "metadata": {},
      "outputs": [
        {
          "name": "stdout",
          "output_type": "stream",
          "text": [
            "  first_name last_name  age Happy_Sad_group  Dosage Drug  Mem_Score_Before  \\\n",
            "0    Bastian  Carrasco   25               H       1    A              63.5   \n",
            "1       Evan  Carrasco   52               S       1    A              41.6   \n",
            "2  Florencia  Carrasco   29               H       1    A              59.7   \n",
            "3      Holly  Carrasco   50               S       1    A              51.7   \n",
            "4     Justin  Carrasco   52               H       1    A              47.0   \n",
            "\n",
            "   Mem_Score_After  Diff  \n",
            "0             61.2  -2.3  \n",
            "1             40.7  -0.9  \n",
            "2             55.1  -4.6  \n",
            "3             51.2  -0.5  \n",
            "4             47.1   0.1  \n",
            "<class 'pandas.core.frame.DataFrame'>\n",
            "RangeIndex: 198 entries, 0 to 197\n",
            "Data columns (total 9 columns):\n",
            " #   Column            Non-Null Count  Dtype  \n",
            "---  ------            --------------  -----  \n",
            " 0   first_name        198 non-null    object \n",
            " 1   last_name         198 non-null    object \n",
            " 2   age               198 non-null    int64  \n",
            " 3   Happy_Sad_group   198 non-null    object \n",
            " 4   Dosage            198 non-null    int64  \n",
            " 5   Drug              198 non-null    object \n",
            " 6   Mem_Score_Before  198 non-null    float64\n",
            " 7   Mem_Score_After   198 non-null    float64\n",
            " 8   Diff              198 non-null    float64\n",
            "dtypes: float64(3), int64(2), object(4)\n",
            "memory usage: 14.1+ KB\n",
            "None\n",
            "first_name          0\n",
            "last_name           0\n",
            "age                 0\n",
            "Happy_Sad_group     0\n",
            "Dosage              0\n",
            "Drug                0\n",
            "Mem_Score_Before    0\n",
            "Mem_Score_After     0\n",
            "Diff                0\n",
            "dtype: int64\n"
          ]
        }
      ],
      "source": [
        "print(df.head())\n",
        "\n",
        "print(df.info())\n",
        "\n",
        "print(df.isnull().sum())"
      ]
    },
    {
      "cell_type": "markdown",
      "id": "5e55816d",
      "metadata": {},
      "source": [
        "3. Filtreeri andmestik: leia kõik isikud, kelle vanus on üle 30 ja perekonnanimi on 'Durand'.\n"
      ]
    },
    {
      "cell_type": "code",
      "execution_count": 26,
      "id": "c96e80de",
      "metadata": {},
      "outputs": [
        {
          "name": "stdout",
          "output_type": "stream",
          "text": [
            "      first_name last_name  age Happy_Sad_group  Dosage Drug  \\\n",
            "6            Ava    Durand   35               S       1    A   \n",
            "7          Jamie    Durand   38               H       1    A   \n",
            "9           Mark    Durand   36               S       1    A   \n",
            "10   Maximiliano    Durand   63               S       1    A   \n",
            "29        Darren    Durand   36               H       2    A   \n",
            "30       Fernado    Durand   53               S       2    A   \n",
            "32          Orla    Durand   39               S       2    A   \n",
            "33        Robert    Durand   35               H       2    A   \n",
            "50      Benjamin    Durand   47               S       3    A   \n",
            "51          Hina    Durand   43               H       3    A   \n",
            "53         Kevin    Durand   32               S       3    A   \n",
            "54      Takahiro    Durand   53               S       3    A   \n",
            "73        Josefa    Durand   41               H       1    S   \n",
            "74       Martina    Durand   37               S       1    S   \n",
            "75        Robert    Durand   45               S       1    S   \n",
            "76       William    Durand   42               S       1    S   \n",
            "95     Alejandra    Durand   33               S       2    S   \n",
            "97        Momoko    Durand   50               S       2    S   \n",
            "98           Rin    Durand   40               H       2    S   \n",
            "116      Antoine    Durand   35               H       3    S   \n",
            "121       Takumi    Durand   44               S       3    S   \n",
            "140         Emma    Durand   34               S       1    T   \n",
            "142       Shauna    Durand   65               H       1    T   \n",
            "143       Shauna    Durand   37               S       1    T   \n",
            "161        Ciara    Durand   54               H       2    T   \n",
            "163         Jose    Durand   42               H       2    T   \n",
            "164       Nicole    Durand   42               S       2    T   \n",
            "182        Ellen    Durand   63               S       3    T   \n",
            "183      Ignacio    Durand   34               H       3    T   \n",
            "184        Naoki    Durand   51               S       3    T   \n",
            "185       Nicole    Durand   34               H       3    T   \n",
            "\n",
            "     Mem_Score_Before  Mem_Score_After  Diff  \n",
            "6                44.1             56.0  11.9  \n",
            "7                76.3             74.8  -1.5  \n",
            "9                54.8             75.9  21.1  \n",
            "10               90.0            102.0  12.0  \n",
            "29               74.9             70.8  -4.1  \n",
            "30               74.5             79.6   5.1  \n",
            "32               36.4             50.9  14.5  \n",
            "33               58.8             50.8  -8.0  \n",
            "50               41.9             55.6  13.7  \n",
            "51               49.4             69.2  19.8  \n",
            "53               71.7             90.0  18.3  \n",
            "54               54.8             88.2  33.4  \n",
            "73               56.2             59.0   2.8  \n",
            "74               46.9             48.5   1.6  \n",
            "75               45.8             50.9   5.1  \n",
            "76               41.0             44.1   3.1  \n",
            "95               86.3             79.6  -6.7  \n",
            "97               76.8             78.5   1.7  \n",
            "98               30.7             27.1  -3.6  \n",
            "116              42.3             28.9 -13.4  \n",
            "121              53.6             48.3  -5.3  \n",
            "140              49.0             40.5  -8.5  \n",
            "142              50.9             41.8  -9.1  \n",
            "143              47.7             37.9  -9.8  \n",
            "161              55.2             51.7  -3.5  \n",
            "163              52.7             53.3   0.6  \n",
            "164              48.2             55.1   6.9  \n",
            "182              67.2             64.9  -2.3  \n",
            "183              54.6             59.2   4.6  \n",
            "184              72.1             74.3   2.2  \n",
            "185              59.6             44.9 -14.7  \n"
          ]
        }
      ],
      "source": [
        "df_filter = (df.pipe(lambda x: x[x['age'] > 30]).pipe(lambda x: x[x['last_name'] == 'Durand']))\n",
        "print(df_filter)"
      ]
    },
    {
      "cell_type": "markdown",
      "id": "7a098d41",
      "metadata": {},
      "source": [
        "4. Millised on kõige levinumad perekonnanimed, kui palju neid on?"
      ]
    },
    {
      "cell_type": "code",
      "execution_count": 34,
      "id": "b9b91878",
      "metadata": {},
      "outputs": [
        {
          "name": "stdout",
          "output_type": "stream",
          "text": [
            "<bound method Series.sort_values of last_name\n",
            "Durand       44\n",
            "Carrasco     43\n",
            "Lopez        23\n",
            "Takahashi    20\n",
            "Summers      12\n",
            "Steiner      12\n",
            "Kennedy      10\n",
            "McCarthy      9\n",
            "Gonzalez      6\n",
            "Bernard       3\n",
            "Connolly      3\n",
            "Novak         3\n",
            "Price         2\n",
            "Hajek         2\n",
            "Rodriguez     2\n",
            "Castro        2\n",
            "Morin         1\n",
            "Fiala         1\n",
            "Name: count, dtype: int64>\n"
          ]
        }
      ],
      "source": [
        "print(df['last_name'].value_counts().sort_values)"
      ]
    },
    {
      "cell_type": "markdown",
      "id": "bb4a0b4b",
      "metadata": {},
      "source": [
        "5. Kasutades kogu andmestikku, lisa uus veerg, mis näitab, kas isik on noor, keskealine või vanur (noor: 0-18, keskealine: 19-65, vanur: 66+).\n"
      ]
    },
    {
      "cell_type": "code",
      "execution_count": 36,
      "id": "1765593a",
      "metadata": {},
      "outputs": [],
      "source": [
        "df['vanus'] = pd.cut(df['age'], bins = [0,18,65,150], labels=[\"noor\", \"keskealine\", \"vanur\"])"
      ]
    },
    {
      "cell_type": "markdown",
      "id": "aef2eb6e",
      "metadata": {},
      "source": [
        "6. Grupeeri andmed uue vanuse tulba järgi ja arvuta iga grupi keskmine vanus ja `diff` skoor.\n"
      ]
    },
    {
      "cell_type": "code",
      "execution_count": 40,
      "id": "a1c9143c",
      "metadata": {},
      "outputs": [],
      "source": [
        "import numpy as np"
      ]
    },
    {
      "cell_type": "code",
      "execution_count": 43,
      "id": "f21b165e",
      "metadata": {},
      "outputs": [
        {
          "name": "stderr",
          "output_type": "stream",
          "text": [
            "C:\\Users\\pungarhe\\AppData\\Local\\Temp\\ipykernel_25460\\1623257320.py:1: FutureWarning: The default of observed=False is deprecated and will be changed to True in a future version of pandas. Pass observed=False to retain current behavior or observed=True to adopt the future default and silence this warning.\n",
            "  df.groupby('vanus').agg({'age' : 'mean', 'Diff' : 'mean'})\n"
          ]
        },
        {
          "data": {
            "application/vnd.microsoft.datawrangler.viewer.v0+json": {
              "columns": [
                {
                  "name": "vanus",
                  "rawType": "category",
                  "type": "unknown"
                },
                {
                  "name": "age",
                  "rawType": "float64",
                  "type": "float"
                },
                {
                  "name": "Diff",
                  "rawType": "float64",
                  "type": "float"
                }
              ],
              "ref": "31c92828-8988-456c-a8e9-724765a2a7ef",
              "rows": [
                [
                  "noor",
                  null,
                  null
                ],
                [
                  "keskealine",
                  "38.14736842105263",
                  "2.9968421052631578"
                ],
                [
                  "vanur",
                  "72.375",
                  "1.9500000000000002"
                ]
              ],
              "shape": {
                "columns": 2,
                "rows": 3
              }
            },
            "text/html": [
              "<div>\n",
              "<style scoped>\n",
              "    .dataframe tbody tr th:only-of-type {\n",
              "        vertical-align: middle;\n",
              "    }\n",
              "\n",
              "    .dataframe tbody tr th {\n",
              "        vertical-align: top;\n",
              "    }\n",
              "\n",
              "    .dataframe thead th {\n",
              "        text-align: right;\n",
              "    }\n",
              "</style>\n",
              "<table border=\"1\" class=\"dataframe\">\n",
              "  <thead>\n",
              "    <tr style=\"text-align: right;\">\n",
              "      <th></th>\n",
              "      <th>age</th>\n",
              "      <th>Diff</th>\n",
              "    </tr>\n",
              "    <tr>\n",
              "      <th>vanus</th>\n",
              "      <th></th>\n",
              "      <th></th>\n",
              "    </tr>\n",
              "  </thead>\n",
              "  <tbody>\n",
              "    <tr>\n",
              "      <th>noor</th>\n",
              "      <td>NaN</td>\n",
              "      <td>NaN</td>\n",
              "    </tr>\n",
              "    <tr>\n",
              "      <th>keskealine</th>\n",
              "      <td>38.147368</td>\n",
              "      <td>2.996842</td>\n",
              "    </tr>\n",
              "    <tr>\n",
              "      <th>vanur</th>\n",
              "      <td>72.375000</td>\n",
              "      <td>1.950000</td>\n",
              "    </tr>\n",
              "  </tbody>\n",
              "</table>\n",
              "</div>"
            ],
            "text/plain": [
              "                  age      Diff\n",
              "vanus                          \n",
              "noor              NaN       NaN\n",
              "keskealine  38.147368  2.996842\n",
              "vanur       72.375000  1.950000"
            ]
          },
          "execution_count": 43,
          "metadata": {},
          "output_type": "execute_result"
        }
      ],
      "source": [
        "df.groupby('vanus').agg({'age' : 'mean', 'Diff' : 'mean'})"
      ]
    },
    {
      "cell_type": "markdown",
      "id": "63db592a",
      "metadata": {},
      "source": [
        "7. Lisa gupeerimisse `Duug` veerg, milline ravim toimis paremini mälu parandamisel."
      ]
    },
    {
      "cell_type": "code",
      "execution_count": null,
      "id": "cb6f0ccd",
      "metadata": {},
      "outputs": [],
      "source": []
    },
    {
      "cell_type": "markdown",
      "id": "c836e927",
      "metadata": {
        "id": "c836e927"
      },
      "source": [
        "## Mis edasi?\n",
        "Kui oled Pandase põhitõed selgeks saanud, soovitan edasi uurida ametlikku dokumentatsiooni ja tutvuda Pandase õppetutorialidega:\n",
        "\n",
        "- [Pandas dokumentatsioon](https://pandas.pydata.org/docs/)\n",
        "- [Pandas intro-tutorialid](https://pandas.pydata.org/docs/getting_started/intro_tutorials/index.html)\n",
        "\n",
        "Sealt leiad põhjalikud näited, juhendid ja ülesanded, mis aitavad Pandase oskusi edasi arendada."
      ]
    }
  ],
  "metadata": {
    "colab": {
      "include_colab_link": true,
      "provenance": []
    },
    "kernelspec": {
      "display_name": "atm_2025",
      "language": "python",
      "name": "python3"
    },
    "language_info": {
      "codemirror_mode": {
        "name": "ipython",
        "version": 3
      },
      "file_extension": ".py",
      "mimetype": "text/x-python",
      "name": "python",
      "nbconvert_exporter": "python",
      "pygments_lexer": "ipython3",
      "version": "3.13.5"
    }
  },
  "nbformat": 4,
  "nbformat_minor": 5
}
