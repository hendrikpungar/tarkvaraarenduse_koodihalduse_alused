{
  "cells": [
    {
      "cell_type": "markdown",
      "metadata": {
        "colab_type": "text",
        "id": "view-in-github"
      },
      "source": [
        "<a href=\"https://colab.research.google.com/github/adlerpriit/2025_taka_fall/blob/main/teemad/python/Matplotlib.ipynb\" target=\"_parent\"><img src=\"https://colab.research.google.com/assets/colab-badge.svg\" alt=\"Open In Colab\"/></a>"
      ]
    },
    {
      "cell_type": "markdown",
      "id": "c664bfae",
      "metadata": {
        "id": "c664bfae"
      },
      "source": [
        "# Andmete visualiseerimine Matplotlibiga\n",
        "\n",
        "Selles peatükis õpid, kuidas visualiseerida andmeid Pythonis, kasutades matplotlib-i ja pandas DataFrame'i. Näidetes kasutatakse islander_data andmestikku, mis on juba Pandasega sisse loetud. Visualiseerimine aitab andmetest mustreid ja seoseid paremini mõista."
      ]
    },
    {
      "cell_type": "markdown",
      "id": "dc581860",
      "metadata": {
        "id": "dc581860"
      },
      "source": [
        "## Scatterplot (punktdiagramm)\n",
        "Scatterplot ehk punktdiagramm näitab kahe tunnuse omavahelist seost. Näiteks saab visualiseerida vanuse ja mälu skoori seost."
      ]
    },
    {
      "cell_type": "code",
      "execution_count": 1,
      "id": "654d68d9",
      "metadata": {
        "id": "654d68d9"
      },
      "outputs": [
        {
          "ename": "FileNotFoundError",
          "evalue": "[Errno 2] No such file or directory: '../../data/Islander_data.csv'",
          "output_type": "error",
          "traceback": [
            "\u001b[31m---------------------------------------------------------------------------\u001b[39m",
            "\u001b[31mFileNotFoundError\u001b[39m                         Traceback (most recent call last)",
            "\u001b[36mCell\u001b[39m\u001b[36m \u001b[39m\u001b[32mIn[1]\u001b[39m\u001b[32m, line 5\u001b[39m\n\u001b[32m      2\u001b[39m \u001b[38;5;28;01mimport\u001b[39;00m\u001b[38;5;250m \u001b[39m\u001b[34;01mpandas\u001b[39;00m\u001b[38;5;250m \u001b[39m\u001b[38;5;28;01mas\u001b[39;00m\u001b[38;5;250m \u001b[39m\u001b[34;01mpd\u001b[39;00m\n\u001b[32m      4\u001b[39m \u001b[38;5;66;03m# Andmestiku lugemine\u001b[39;00m\n\u001b[32m----> \u001b[39m\u001b[32m5\u001b[39m df = \u001b[43mpd\u001b[49m\u001b[43m.\u001b[49m\u001b[43mread_csv\u001b[49m\u001b[43m(\u001b[49m\u001b[33;43m'\u001b[39;49m\u001b[33;43m../../data/Islander_data.csv\u001b[39;49m\u001b[33;43m'\u001b[39;49m\u001b[43m)\u001b[49m\n\u001b[32m      7\u001b[39m \u001b[38;5;66;03m# Scatterplot: vanus vs mälu skoor\u001b[39;00m\n\u001b[32m      8\u001b[39m plt.figure(figsize=(\u001b[32m8\u001b[39m,\u001b[32m5\u001b[39m))\n",
            "\u001b[36mFile \u001b[39m\u001b[32mc:\\Users\\pungarhe\\AppData\\Local\\anaconda3\\Lib\\site-packages\\pandas\\io\\parsers\\readers.py:1026\u001b[39m, in \u001b[36mread_csv\u001b[39m\u001b[34m(filepath_or_buffer, sep, delimiter, header, names, index_col, usecols, dtype, engine, converters, true_values, false_values, skipinitialspace, skiprows, skipfooter, nrows, na_values, keep_default_na, na_filter, verbose, skip_blank_lines, parse_dates, infer_datetime_format, keep_date_col, date_parser, date_format, dayfirst, cache_dates, iterator, chunksize, compression, thousands, decimal, lineterminator, quotechar, quoting, doublequote, escapechar, comment, encoding, encoding_errors, dialect, on_bad_lines, delim_whitespace, low_memory, memory_map, float_precision, storage_options, dtype_backend)\u001b[39m\n\u001b[32m   1013\u001b[39m kwds_defaults = _refine_defaults_read(\n\u001b[32m   1014\u001b[39m     dialect,\n\u001b[32m   1015\u001b[39m     delimiter,\n\u001b[32m   (...)\u001b[39m\u001b[32m   1022\u001b[39m     dtype_backend=dtype_backend,\n\u001b[32m   1023\u001b[39m )\n\u001b[32m   1024\u001b[39m kwds.update(kwds_defaults)\n\u001b[32m-> \u001b[39m\u001b[32m1026\u001b[39m \u001b[38;5;28;01mreturn\u001b[39;00m \u001b[43m_read\u001b[49m\u001b[43m(\u001b[49m\u001b[43mfilepath_or_buffer\u001b[49m\u001b[43m,\u001b[49m\u001b[43m \u001b[49m\u001b[43mkwds\u001b[49m\u001b[43m)\u001b[49m\n",
            "\u001b[36mFile \u001b[39m\u001b[32mc:\\Users\\pungarhe\\AppData\\Local\\anaconda3\\Lib\\site-packages\\pandas\\io\\parsers\\readers.py:620\u001b[39m, in \u001b[36m_read\u001b[39m\u001b[34m(filepath_or_buffer, kwds)\u001b[39m\n\u001b[32m    617\u001b[39m _validate_names(kwds.get(\u001b[33m\"\u001b[39m\u001b[33mnames\u001b[39m\u001b[33m\"\u001b[39m, \u001b[38;5;28;01mNone\u001b[39;00m))\n\u001b[32m    619\u001b[39m \u001b[38;5;66;03m# Create the parser.\u001b[39;00m\n\u001b[32m--> \u001b[39m\u001b[32m620\u001b[39m parser = \u001b[43mTextFileReader\u001b[49m\u001b[43m(\u001b[49m\u001b[43mfilepath_or_buffer\u001b[49m\u001b[43m,\u001b[49m\u001b[43m \u001b[49m\u001b[43m*\u001b[49m\u001b[43m*\u001b[49m\u001b[43mkwds\u001b[49m\u001b[43m)\u001b[49m\n\u001b[32m    622\u001b[39m \u001b[38;5;28;01mif\u001b[39;00m chunksize \u001b[38;5;129;01mor\u001b[39;00m iterator:\n\u001b[32m    623\u001b[39m     \u001b[38;5;28;01mreturn\u001b[39;00m parser\n",
            "\u001b[36mFile \u001b[39m\u001b[32mc:\\Users\\pungarhe\\AppData\\Local\\anaconda3\\Lib\\site-packages\\pandas\\io\\parsers\\readers.py:1620\u001b[39m, in \u001b[36mTextFileReader.__init__\u001b[39m\u001b[34m(self, f, engine, **kwds)\u001b[39m\n\u001b[32m   1617\u001b[39m     \u001b[38;5;28mself\u001b[39m.options[\u001b[33m\"\u001b[39m\u001b[33mhas_index_names\u001b[39m\u001b[33m\"\u001b[39m] = kwds[\u001b[33m\"\u001b[39m\u001b[33mhas_index_names\u001b[39m\u001b[33m\"\u001b[39m]\n\u001b[32m   1619\u001b[39m \u001b[38;5;28mself\u001b[39m.handles: IOHandles | \u001b[38;5;28;01mNone\u001b[39;00m = \u001b[38;5;28;01mNone\u001b[39;00m\n\u001b[32m-> \u001b[39m\u001b[32m1620\u001b[39m \u001b[38;5;28mself\u001b[39m._engine = \u001b[38;5;28;43mself\u001b[39;49m\u001b[43m.\u001b[49m\u001b[43m_make_engine\u001b[49m\u001b[43m(\u001b[49m\u001b[43mf\u001b[49m\u001b[43m,\u001b[49m\u001b[43m \u001b[49m\u001b[38;5;28;43mself\u001b[39;49m\u001b[43m.\u001b[49m\u001b[43mengine\u001b[49m\u001b[43m)\u001b[49m\n",
            "\u001b[36mFile \u001b[39m\u001b[32mc:\\Users\\pungarhe\\AppData\\Local\\anaconda3\\Lib\\site-packages\\pandas\\io\\parsers\\readers.py:1880\u001b[39m, in \u001b[36mTextFileReader._make_engine\u001b[39m\u001b[34m(self, f, engine)\u001b[39m\n\u001b[32m   1878\u001b[39m     \u001b[38;5;28;01mif\u001b[39;00m \u001b[33m\"\u001b[39m\u001b[33mb\u001b[39m\u001b[33m\"\u001b[39m \u001b[38;5;129;01mnot\u001b[39;00m \u001b[38;5;129;01min\u001b[39;00m mode:\n\u001b[32m   1879\u001b[39m         mode += \u001b[33m\"\u001b[39m\u001b[33mb\u001b[39m\u001b[33m\"\u001b[39m\n\u001b[32m-> \u001b[39m\u001b[32m1880\u001b[39m \u001b[38;5;28mself\u001b[39m.handles = \u001b[43mget_handle\u001b[49m\u001b[43m(\u001b[49m\n\u001b[32m   1881\u001b[39m \u001b[43m    \u001b[49m\u001b[43mf\u001b[49m\u001b[43m,\u001b[49m\n\u001b[32m   1882\u001b[39m \u001b[43m    \u001b[49m\u001b[43mmode\u001b[49m\u001b[43m,\u001b[49m\n\u001b[32m   1883\u001b[39m \u001b[43m    \u001b[49m\u001b[43mencoding\u001b[49m\u001b[43m=\u001b[49m\u001b[38;5;28;43mself\u001b[39;49m\u001b[43m.\u001b[49m\u001b[43moptions\u001b[49m\u001b[43m.\u001b[49m\u001b[43mget\u001b[49m\u001b[43m(\u001b[49m\u001b[33;43m\"\u001b[39;49m\u001b[33;43mencoding\u001b[39;49m\u001b[33;43m\"\u001b[39;49m\u001b[43m,\u001b[49m\u001b[43m \u001b[49m\u001b[38;5;28;43;01mNone\u001b[39;49;00m\u001b[43m)\u001b[49m\u001b[43m,\u001b[49m\n\u001b[32m   1884\u001b[39m \u001b[43m    \u001b[49m\u001b[43mcompression\u001b[49m\u001b[43m=\u001b[49m\u001b[38;5;28;43mself\u001b[39;49m\u001b[43m.\u001b[49m\u001b[43moptions\u001b[49m\u001b[43m.\u001b[49m\u001b[43mget\u001b[49m\u001b[43m(\u001b[49m\u001b[33;43m\"\u001b[39;49m\u001b[33;43mcompression\u001b[39;49m\u001b[33;43m\"\u001b[39;49m\u001b[43m,\u001b[49m\u001b[43m \u001b[49m\u001b[38;5;28;43;01mNone\u001b[39;49;00m\u001b[43m)\u001b[49m\u001b[43m,\u001b[49m\n\u001b[32m   1885\u001b[39m \u001b[43m    \u001b[49m\u001b[43mmemory_map\u001b[49m\u001b[43m=\u001b[49m\u001b[38;5;28;43mself\u001b[39;49m\u001b[43m.\u001b[49m\u001b[43moptions\u001b[49m\u001b[43m.\u001b[49m\u001b[43mget\u001b[49m\u001b[43m(\u001b[49m\u001b[33;43m\"\u001b[39;49m\u001b[33;43mmemory_map\u001b[39;49m\u001b[33;43m\"\u001b[39;49m\u001b[43m,\u001b[49m\u001b[43m \u001b[49m\u001b[38;5;28;43;01mFalse\u001b[39;49;00m\u001b[43m)\u001b[49m\u001b[43m,\u001b[49m\n\u001b[32m   1886\u001b[39m \u001b[43m    \u001b[49m\u001b[43mis_text\u001b[49m\u001b[43m=\u001b[49m\u001b[43mis_text\u001b[49m\u001b[43m,\u001b[49m\n\u001b[32m   1887\u001b[39m \u001b[43m    \u001b[49m\u001b[43merrors\u001b[49m\u001b[43m=\u001b[49m\u001b[38;5;28;43mself\u001b[39;49m\u001b[43m.\u001b[49m\u001b[43moptions\u001b[49m\u001b[43m.\u001b[49m\u001b[43mget\u001b[49m\u001b[43m(\u001b[49m\u001b[33;43m\"\u001b[39;49m\u001b[33;43mencoding_errors\u001b[39;49m\u001b[33;43m\"\u001b[39;49m\u001b[43m,\u001b[49m\u001b[43m \u001b[49m\u001b[33;43m\"\u001b[39;49m\u001b[33;43mstrict\u001b[39;49m\u001b[33;43m\"\u001b[39;49m\u001b[43m)\u001b[49m\u001b[43m,\u001b[49m\n\u001b[32m   1888\u001b[39m \u001b[43m    \u001b[49m\u001b[43mstorage_options\u001b[49m\u001b[43m=\u001b[49m\u001b[38;5;28;43mself\u001b[39;49m\u001b[43m.\u001b[49m\u001b[43moptions\u001b[49m\u001b[43m.\u001b[49m\u001b[43mget\u001b[49m\u001b[43m(\u001b[49m\u001b[33;43m\"\u001b[39;49m\u001b[33;43mstorage_options\u001b[39;49m\u001b[33;43m\"\u001b[39;49m\u001b[43m,\u001b[49m\u001b[43m \u001b[49m\u001b[38;5;28;43;01mNone\u001b[39;49;00m\u001b[43m)\u001b[49m\u001b[43m,\u001b[49m\n\u001b[32m   1889\u001b[39m \u001b[43m\u001b[49m\u001b[43m)\u001b[49m\n\u001b[32m   1890\u001b[39m \u001b[38;5;28;01massert\u001b[39;00m \u001b[38;5;28mself\u001b[39m.handles \u001b[38;5;129;01mis\u001b[39;00m \u001b[38;5;129;01mnot\u001b[39;00m \u001b[38;5;28;01mNone\u001b[39;00m\n\u001b[32m   1891\u001b[39m f = \u001b[38;5;28mself\u001b[39m.handles.handle\n",
            "\u001b[36mFile \u001b[39m\u001b[32mc:\\Users\\pungarhe\\AppData\\Local\\anaconda3\\Lib\\site-packages\\pandas\\io\\common.py:873\u001b[39m, in \u001b[36mget_handle\u001b[39m\u001b[34m(path_or_buf, mode, encoding, compression, memory_map, is_text, errors, storage_options)\u001b[39m\n\u001b[32m    868\u001b[39m \u001b[38;5;28;01melif\u001b[39;00m \u001b[38;5;28misinstance\u001b[39m(handle, \u001b[38;5;28mstr\u001b[39m):\n\u001b[32m    869\u001b[39m     \u001b[38;5;66;03m# Check whether the filename is to be opened in binary mode.\u001b[39;00m\n\u001b[32m    870\u001b[39m     \u001b[38;5;66;03m# Binary mode does not support 'encoding' and 'newline'.\u001b[39;00m\n\u001b[32m    871\u001b[39m     \u001b[38;5;28;01mif\u001b[39;00m ioargs.encoding \u001b[38;5;129;01mand\u001b[39;00m \u001b[33m\"\u001b[39m\u001b[33mb\u001b[39m\u001b[33m\"\u001b[39m \u001b[38;5;129;01mnot\u001b[39;00m \u001b[38;5;129;01min\u001b[39;00m ioargs.mode:\n\u001b[32m    872\u001b[39m         \u001b[38;5;66;03m# Encoding\u001b[39;00m\n\u001b[32m--> \u001b[39m\u001b[32m873\u001b[39m         handle = \u001b[38;5;28;43mopen\u001b[39;49m\u001b[43m(\u001b[49m\n\u001b[32m    874\u001b[39m \u001b[43m            \u001b[49m\u001b[43mhandle\u001b[49m\u001b[43m,\u001b[49m\n\u001b[32m    875\u001b[39m \u001b[43m            \u001b[49m\u001b[43mioargs\u001b[49m\u001b[43m.\u001b[49m\u001b[43mmode\u001b[49m\u001b[43m,\u001b[49m\n\u001b[32m    876\u001b[39m \u001b[43m            \u001b[49m\u001b[43mencoding\u001b[49m\u001b[43m=\u001b[49m\u001b[43mioargs\u001b[49m\u001b[43m.\u001b[49m\u001b[43mencoding\u001b[49m\u001b[43m,\u001b[49m\n\u001b[32m    877\u001b[39m \u001b[43m            \u001b[49m\u001b[43merrors\u001b[49m\u001b[43m=\u001b[49m\u001b[43merrors\u001b[49m\u001b[43m,\u001b[49m\n\u001b[32m    878\u001b[39m \u001b[43m            \u001b[49m\u001b[43mnewline\u001b[49m\u001b[43m=\u001b[49m\u001b[33;43m\"\u001b[39;49m\u001b[33;43m\"\u001b[39;49m\u001b[43m,\u001b[49m\n\u001b[32m    879\u001b[39m \u001b[43m        \u001b[49m\u001b[43m)\u001b[49m\n\u001b[32m    880\u001b[39m     \u001b[38;5;28;01melse\u001b[39;00m:\n\u001b[32m    881\u001b[39m         \u001b[38;5;66;03m# Binary mode\u001b[39;00m\n\u001b[32m    882\u001b[39m         handle = \u001b[38;5;28mopen\u001b[39m(handle, ioargs.mode)\n",
            "\u001b[31mFileNotFoundError\u001b[39m: [Errno 2] No such file or directory: '../../data/Islander_data.csv'"
          ]
        }
      ],
      "source": [
        "import matplotlib.pyplot as plt\n",
        "import pandas as pd\n",
        "\n",
        "# Andmestiku lugemine\n",
        "df = pd.read_csv('../../data/Islander_data.csv')\n",
        "\n",
        "# Scatterplot: vanus vs mälu skoor\n",
        "plt.figure(figsize=(8,5))\n",
        "# c - color, s - size\n",
        "plt.scatter(df['age'], df['Diff'], c=df['Drug'].astype('category').cat.codes, s=df['Dosage']*10, alpha=0.5)\n",
        "plt.xlabel('Vanus')\n",
        "plt.ylabel('Mälu skoor')\n",
        "plt.title('Vanuse ja mälu skoori seos')\n",
        "plt.legend(title='Ravim', labels=df['Drug'].unique())\n",
        "plt.show()"
      ]
    },
    {
      "cell_type": "markdown",
      "id": "437c3379",
      "metadata": {
        "id": "437c3379"
      },
      "source": [
        "**Süntaksi selgitus:**\n",
        "- `plt.scatter(x, y)`: joonistab punktdiagrammi, kus x ja y on Pandase veerud\n",
        "- `plt.xlabel()`, `plt.ylabel()`: telgede nimed\n",
        "- `plt.title()`: diagrammi pealkiri\n",
        "- `plt.show()`: näitab diagrammi notebookis"
      ]
    },
    {
      "cell_type": "markdown",
      "id": "0ab38727",
      "metadata": {
        "id": "0ab38727"
      },
      "source": [
        "## Bar plot (tulpdiagramm)\n",
        "Bar plot ehk tulpdiagramm sobib kategooriate võrdlemiseks, näiteks ravimite keskmise mälu skoori võrdlus."
      ]
    },
    {
      "cell_type": "code",
      "execution_count": null,
      "id": "184ad8d3",
      "metadata": {
        "id": "184ad8d3"
      },
      "outputs": [],
      "source": [
        "# Ravimite kaupa keskmise mälu skoori tulpdiagramm\n",
        "mean_scores = df.groupby('Drug')['Diff'].mean()\n",
        "plt.figure(figsize=(7,4))\n",
        "mean_scores.plot(kind='bar', color='skyblue')\n",
        "plt.xlabel('Ravim')\n",
        "plt.ylabel('Keskmine mälu skoor')\n",
        "plt.title('Ravimite kaupa keskmine mälu skoor')\n",
        "plt.show()"
      ]
    },
    {
      "cell_type": "markdown",
      "id": "b2c68566",
      "metadata": {
        "id": "b2c68566"
      },
      "source": [
        "## Boxplot (kastdiagramm)\n",
        "Boxplot näitab tunnuse jaotust ja äärmusi, näiteks vanuse jaotust erinevate ravimite lõikes."
      ]
    },
    {
      "cell_type": "code",
      "execution_count": null,
      "id": "acad3fec",
      "metadata": {
        "id": "acad3fec"
      },
      "outputs": [],
      "source": [
        "# Vanuse jaotus ravimite lõikes\n",
        "plt.figure(figsize=(7,4))\n",
        "df.boxplot(column='age', by='Drug')\n",
        "plt.xlabel('Ravim')\n",
        "plt.ylabel('Vanus')\n",
        "plt.title('Vanuse jaotus ravimite lõikes')\n",
        "plt.suptitle('')\n",
        "plt.show()"
      ]
    },
    {
      "cell_type": "markdown",
      "id": "59e6e703",
      "metadata": {
        "id": "59e6e703"
      },
      "source": [
        "## Linegraph (joongraafik)\n",
        "Linegraph sobib trendide ja muutuste visualiseerimiseks, näiteks keskmise mälu skoori muutus vanuse kasvades."
      ]
    },
    {
      "cell_type": "code",
      "execution_count": null,
      "id": "fed935e3",
      "metadata": {
        "id": "fed935e3"
      },
      "outputs": [],
      "source": [
        "# Keskmine mälu skoor vanuse kaupa\n",
        "age_means = df.groupby('age')['Diff'].mean()\n",
        "plt.figure(figsize=(8,5))\n",
        "plt.plot(age_means.index, age_means.values, marker='o')\n",
        "plt.xlabel('Vanus')\n",
        "plt.ylabel('Keskmine mälu skoor')\n",
        "plt.title('Keskmise mälu skoori muutus vanuse kasvades')\n",
        "plt.show()"
      ]
    },
    {
      "cell_type": "markdown",
      "id": "02bc9762",
      "metadata": {
        "id": "02bc9762"
      },
      "source": [
        "**Süntaksi selgitused:**\n",
        "- `plot(kind='bar')`: Pandase meetod tulpdiagrammi jaoks\n",
        "- `boxplot(column, by)`: Pandase meetod kastdiagrammi jaoks\n",
        "- `plt.plot()`: Matplotlibi joongraafik\n",
        "- Telgede ja pealkirjade lisamine aitab diagrammi mõista"
      ]
    },
    {
      "cell_type": "markdown",
      "id": "b513145d",
      "metadata": {
        "id": "b513145d"
      },
      "source": [
        "## Boxplot: 'diff' väärtus ravimite ja dooside kaupa\n",
        "See boxplot näitab, kuidas mälu skoor ('diff') jaotub erinevate ravimite ja dooside lõikes."
      ]
    },
    {
      "cell_type": "code",
      "execution_count": null,
      "id": "02b37df2",
      "metadata": {
        "id": "02b37df2"
      },
      "outputs": [],
      "source": [
        "# Loome uue veeru, mis ühendab ravimi ja doosi\n",
        "df['Drug_Dosage'] = df['Drug'] + ' (' + df['Dosage'].astype(str) + ')'\n",
        "plt.figure(figsize=(10,5))\n",
        "df.boxplot(column='Diff', by='Drug_Dosage', grid=False, rot=45)\n",
        "plt.xlabel('Ravim ja doos')\n",
        "plt.ylabel('Mälu skoor (diff)')\n",
        "plt.title(\"'Diff' väärtus ravimite ja dooside kaupa\")\n",
        "plt.suptitle('')\n",
        "plt.show()"
      ]
    },
    {
      "cell_type": "markdown",
      "id": "86ea3ada",
      "metadata": {
        "id": "86ea3ada"
      },
      "source": [
        "## Mis edasi?\n",
        "Kui soovid Matplotlibi kohta rohkem teada saada, vaata ametlikku dokumentatsiooni ja tutvustusi:\n",
        "\n",
        "- [Matplotlib dokumentatsioon ja näited](https://matplotlib.org/stable/)\n",
        "- [Python Graph Gallery](https://python-graph-gallery.com/)\n",
        "- [Data to Viz](https://www.data-to-viz.com/)"
      ]
    },
    {
      "cell_type": "markdown",
      "id": "c069e7ab",
      "metadata": {
        "id": "c069e7ab"
      },
      "source": [
        "## Praktiline ülesanne: visualiseeri islander_data andmestikku\n",
        "\n",
        "Vali islander_data andmestikust kaks või enam tunnust ja loo üks selge, informatiivne visualiseering (scatterplot, barplot, boxplot või linegraph). Mõtle, millist seost või mustrit soovid näidata. Kujunda pilt nii, et oleks selged teljed, pealkiri, vajadusel legend ja värvid.\n",
        "Näiteks:\n",
        "- kuidas mälu skoor sõltub vanusest või ravimist.\n",
        "- kuidas annus mõjutab mälu skoori erinevates vanusegruppides (võimalik, et pead tulba uuesti looma). Tee igele ravimile eraldi plot või kasuta subplotte (vaata [Matplotlib subplot](https://matplotlib.org/stable/api/_as_gen/matplotlib.pyplot.subplots.html) juhendit).\n",
        "\n",
        "**Juhised:**\n",
        "- Vali sobivad tunnused (veerud) visualiseerimiseks\n",
        "- Lisa telgede nimed ja pealkiri\n",
        "- Kasuta värve või suurusi, et tuua esile erinevusi\n",
        "- Lisa legend, kui graafikul on mitu gruppi\n",
        "- Selgita lühidalt, mida graafik näitab"
      ]
    },
    {
      "cell_type": "code",
      "execution_count": null,
      "id": "2c29b56f",
      "metadata": {
        "id": "2c29b56f"
      },
      "outputs": [],
      "source": [
        "# Kirjuta siia oma visualiseeringu kood\n",
        "# Näiteks: plt.scatter(...), plt.bar(...), df.boxplot(...), plt.plot(...)\n",
        "# Lisa ka lühike selgitus, mida graafik näitab"
      ]
    }
  ],
  "metadata": {
    "colab": {
      "include_colab_link": true,
      "provenance": []
    },
    "kernelspec": {
      "display_name": "base",
      "language": "python",
      "name": "python3"
    },
    "language_info": {
      "codemirror_mode": {
        "name": "ipython",
        "version": 3
      },
      "file_extension": ".py",
      "mimetype": "text/x-python",
      "name": "python",
      "nbconvert_exporter": "python",
      "pygments_lexer": "ipython3",
      "version": "3.13.5"
    }
  },
  "nbformat": 4,
  "nbformat_minor": 5
}
